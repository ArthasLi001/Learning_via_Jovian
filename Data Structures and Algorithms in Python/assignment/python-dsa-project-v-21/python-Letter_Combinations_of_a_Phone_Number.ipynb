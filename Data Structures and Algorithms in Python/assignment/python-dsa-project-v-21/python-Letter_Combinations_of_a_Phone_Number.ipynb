{
 "cells": [
  {
   "cell_type": "markdown",
   "id": "endangered-sender",
   "metadata": {},
   "source": [
    "# Letter Combinations of a Phone Number\n",
    "\n",
    "_This notebook is used for demonstrating how to deal with the question of [\"Letter Combinations of a Phone Number\"](https://leetcode.com/problems/letter-combinations-of-a-phone-number/) in LeetCode. This is also a requirement of Data Structures and Algorithms in Python_\n",
    "\n",
    "\n"
   ]
  },
  {
   "cell_type": "code",
   "execution_count": 1,
   "id": "utility-stupid",
   "metadata": {},
   "outputs": [],
   "source": [
    "project_name = 'python-dsa-project' # give it an appropriate name"
   ]
  },
  {
   "cell_type": "code",
   "execution_count": 2,
   "id": "loved-point",
   "metadata": {},
   "outputs": [],
   "source": [
    "!pip install jovian --upgrade --quiet"
   ]
  },
  {
   "cell_type": "code",
   "execution_count": 3,
   "id": "retained-drawing",
   "metadata": {},
   "outputs": [],
   "source": [
    "import jovian"
   ]
  },
  {
   "cell_type": "code",
   "execution_count": 4,
   "id": "earlier-pastor",
   "metadata": {},
   "outputs": [
    {
     "data": {
      "application/javascript": [
       "window.require && require([\"base/js/namespace\"],function(Jupyter){Jupyter.notebook.save_checkpoint()})"
      ],
      "text/plain": [
       "<IPython.core.display.Javascript object>"
      ]
     },
     "metadata": {},
     "output_type": "display_data"
    },
    {
     "name": "stdout",
     "output_type": "stream",
     "text": [
      "[jovian] Attempting to save notebook..\u001b[0m\n",
      "[jovian] Updating notebook \"arthasli001/python-dsa-project\" on https://jovian.ai\u001b[0m\n",
      "[jovian] Uploading notebook..\u001b[0m\n",
      "[jovian] Uploading additional files...\u001b[0m\n",
      "[jovian] Committed successfully! https://jovian.ai/arthasli001/python-dsa-project\u001b[0m\n"
     ]
    },
    {
     "data": {
      "text/plain": [
       "'https://jovian.ai/arthasli001/python-dsa-project'"
      ]
     },
     "execution_count": 4,
     "metadata": {},
     "output_type": "execute_result"
    }
   ],
   "source": [
    "jovian.commit(project=project_name)"
   ]
  },
  {
   "cell_type": "markdown",
   "id": "noted-peter",
   "metadata": {},
   "source": [
    "## Problem Statement\n",
    "\n",
    "\n",
    "> Given a string containing digits from 2-9 inclusive, return all possible letter combinations that the number could represent. Return the answer in any order.\n",
    "\n",
    "\n",
    "Source: [\"Letter Combinations of a Phone Number\"](https://leetcode.com/problems/letter-combinations-of-a-phone-number/)"
   ]
  },
  {
   "cell_type": "markdown",
   "id": "weekly-ebony",
   "metadata": {},
   "source": [
    "## The Method\n",
    "\n",
    "Here's the systematic strategy given in the tutorial and  we'll apply this methodology for solving above question:\n",
    "\n",
    "1. State the problem clearly. Identify the input & output formats.\n",
    "2. Come up with some example inputs & outputs. Try to cover all edge cases.\n",
    "3. Come up with a correct solution for the problem. State it in plain English.\n",
    "4. Implement the solution and test it using example inputs. Fix bugs, if any.\n",
    "5. Analyze the algorithm's complexity and identify inefficiencies, if any.\n",
    "6. Apply the right technique to overcome the inefficiency. Repeat steps 3 to 6.\n",
    "\n",
    "This approach is explained in detail in [Lesson 1](https://jovian.ai/learn/data-structures-and-algorithms-in-python/lesson/lesson-1-binary-search-linked-lists-and-complexity) of the course. Let's apply this approach step-by-step."
   ]
  },
  {
   "cell_type": "markdown",
   "id": "august-arthur",
   "metadata": {},
   "source": [
    "## Solution\n",
    "\n",
    "\n",
    "### 1. State the problem clearly. Identify the input & output formats.\n",
    "\n",
    "While this problem is stated clearly enough, it's always useful to try and express in your own words, in a way that makes it most clear for you. \n",
    "\n",
    "\n",
    "**Problem**\n",
    "\n",
    "> a string containing 2-9 given and we need to return all possible outcomes that maps the strings\n",
    "\n",
    "<br/>\n",
    "\n",
    "\n",
    "**Input**\n",
    "\n",
    "1. digits ( a string containing 2-9)\n",
    "\n",
    "\n",
    "(add more if required)\n",
    "\n",
    "\n",
    "**Output**\n",
    "\n",
    "1. a list of all possible outcomes that maps the string\n",
    "\n",
    "\n",
    "**Constrains**\n",
    "- 0 <= digits.length <= 4\n",
    "- digits[i] is a digit in the range ['2', '9'].\n",
    "\n",
    "\n",
    "\n",
    "<br/>\n",
    "\n",
    "Based on the above, we can now create a signature of our function:"
   ]
  },
  {
   "cell_type": "code",
   "execution_count": 5,
   "id": "arabic-community",
   "metadata": {},
   "outputs": [],
   "source": [
    "# Create a function signature here. The body of the function can contain a single statement: pass\n",
    "def letter_combinations(string):\n",
    "    pass"
   ]
  },
  {
   "cell_type": "markdown",
   "id": "synthetic-siemens",
   "metadata": {},
   "source": [
    "Save and upload your work before continuing."
   ]
  },
  {
   "cell_type": "code",
   "execution_count": 6,
   "id": "detected-hindu",
   "metadata": {},
   "outputs": [],
   "source": [
    "import jovian"
   ]
  },
  {
   "cell_type": "code",
   "execution_count": 7,
   "id": "impossible-scott",
   "metadata": {},
   "outputs": [
    {
     "data": {
      "application/javascript": [
       "window.require && require([\"base/js/namespace\"],function(Jupyter){Jupyter.notebook.save_checkpoint()})"
      ],
      "text/plain": [
       "<IPython.core.display.Javascript object>"
      ]
     },
     "metadata": {},
     "output_type": "display_data"
    },
    {
     "name": "stdout",
     "output_type": "stream",
     "text": [
      "[jovian] Attempting to save notebook..\u001b[0m\n",
      "[jovian] Updating notebook \"arthasli001/python-dsa-project\" on https://jovian.ai\u001b[0m\n",
      "[jovian] Uploading notebook..\u001b[0m\n",
      "[jovian] Uploading additional files...\u001b[0m\n",
      "[jovian] Committed successfully! https://jovian.ai/arthasli001/python-dsa-project\u001b[0m\n"
     ]
    },
    {
     "data": {
      "text/plain": [
       "'https://jovian.ai/arthasli001/python-dsa-project'"
      ]
     },
     "execution_count": 7,
     "metadata": {},
     "output_type": "execute_result"
    }
   ],
   "source": [
    "jovian.commit(project=project_name)"
   ]
  },
  {
   "cell_type": "markdown",
   "id": "light-running",
   "metadata": {},
   "source": [
    "### 2. Come up with some example inputs & outputs. Try to cover all edge cases.\n",
    "\n",
    "Our function should be able to handle any set of valid inputs we pass into it. Here's a list of some possible variations we might encounter:\n",
    "\n",
    "1. a string containing 1 digit only\n",
    "2. a string containing 2 digits\n",
    "3. a string containing 0 digit\n",
    "5. a string containing repeating digits\n",
    "\n",
    "\n",
    "(add more if required)\n",
    "\n",
    "\n",
    "We'll express our test cases as dictionaries, to test them easily. Each dictionary will contain 2 keys: `input` (a dictionary itself containing one key for each argument to the function and `output` (the expected result from the function). "
   ]
  },
  {
   "cell_type": "code",
   "execution_count": 8,
   "id": "delayed-slope",
   "metadata": {},
   "outputs": [],
   "source": [
    "test = {\n",
    "    'input': {\n",
    "        'string':'2'\n",
    "    },\n",
    "    'output': ['a','b','c']\n",
    "}"
   ]
  },
  {
   "cell_type": "markdown",
   "id": "derived-aluminum",
   "metadata": {},
   "source": [
    "Create one test case for each of the scenarios listed above. We'll store our test cases in an array called `tests`."
   ]
  },
  {
   "cell_type": "code",
   "execution_count": 9,
   "id": "cross-future",
   "metadata": {},
   "outputs": [],
   "source": [
    "tests = []"
   ]
  },
  {
   "cell_type": "code",
   "execution_count": 10,
   "id": "dominican-image",
   "metadata": {},
   "outputs": [],
   "source": [
    "tests.append(test)"
   ]
  },
  {
   "cell_type": "code",
   "execution_count": 11,
   "id": "danish-danger",
   "metadata": {},
   "outputs": [],
   "source": [
    "test1 = {\n",
    "    'input': {\n",
    "        'string':'23'\n",
    "    },\n",
    "    'output': [\"ad\",\"ae\",\"af\",\"bd\",\"be\",\"bf\",\"cd\",\"ce\",\"cf\"]\n",
    "}"
   ]
  },
  {
   "cell_type": "code",
   "execution_count": 12,
   "id": "reflected-angle",
   "metadata": {},
   "outputs": [],
   "source": [
    "test2 = {\n",
    "    'input':{\n",
    "        'string':''\n",
    "    },\n",
    "    'output':[]\n",
    "}"
   ]
  },
  {
   "cell_type": "code",
   "execution_count": 13,
   "id": "planned-stylus",
   "metadata": {},
   "outputs": [],
   "source": [
    "test3 = {\n",
    "    'input':{\n",
    "        'string':'22'\n",
    "    },\n",
    "    'output': ['aa','ab','ac','ba','bb','bc','ca','cb','cc']\n",
    "}"
   ]
  },
  {
   "cell_type": "code",
   "execution_count": 14,
   "id": "designed-trash",
   "metadata": {},
   "outputs": [],
   "source": [
    "tests.append(test1)\n",
    "tests.append(test2)\n",
    "tests.append(test3)"
   ]
  },
  {
   "cell_type": "code",
   "execution_count": 15,
   "id": "square-hybrid",
   "metadata": {},
   "outputs": [],
   "source": [
    "# add more test cases"
   ]
  },
  {
   "cell_type": "code",
   "execution_count": null,
   "id": "international-consistency",
   "metadata": {},
   "outputs": [],
   "source": []
  },
  {
   "cell_type": "markdown",
   "id": "clear-harmony",
   "metadata": {},
   "source": [
    "### 3. Come up with a correct solution for the problem. State it in plain English.\n",
    "\n",
    "Our first goal should always be to come up with a _correct_ solution to the problem, which may not necessarily be the most _efficient_ solution. Come with a correct solution and explain it in simple words below:\n",
    "\n",
    "1. split the input string to single digit\n",
    "2. create a list of the first digit maps to\n",
    "3. repeat for next digit till all digits completed\n",
    "4. return the list\n",
    "\n",
    "(add more steps if required)\n",
    "\n",
    "\n",
    "Let's save and upload our work before continuing.\n",
    "\n",
    "\n"
   ]
  },
  {
   "cell_type": "code",
   "execution_count": 16,
   "id": "other-eleven",
   "metadata": {},
   "outputs": [
    {
     "data": {
      "application/javascript": [
       "window.require && require([\"base/js/namespace\"],function(Jupyter){Jupyter.notebook.save_checkpoint()})"
      ],
      "text/plain": [
       "<IPython.core.display.Javascript object>"
      ]
     },
     "metadata": {},
     "output_type": "display_data"
    },
    {
     "name": "stdout",
     "output_type": "stream",
     "text": [
      "[jovian] Attempting to save notebook..\u001b[0m\n",
      "[jovian] Updating notebook \"arthasli001/python-dsa-project\" on https://jovian.ai\u001b[0m\n",
      "[jovian] Uploading notebook..\u001b[0m\n",
      "[jovian] Uploading additional files...\u001b[0m\n",
      "[jovian] Committed successfully! https://jovian.ai/arthasli001/python-dsa-project\u001b[0m\n"
     ]
    },
    {
     "data": {
      "text/plain": [
       "'https://jovian.ai/arthasli001/python-dsa-project'"
      ]
     },
     "execution_count": 16,
     "metadata": {},
     "output_type": "execute_result"
    }
   ],
   "source": [
    "jovian.commit(project=project_name)"
   ]
  },
  {
   "cell_type": "markdown",
   "id": "floating-geography",
   "metadata": {},
   "source": [
    "###  4. Implement the solution and test it using example inputs. Fix bugs, if any."
   ]
  },
  {
   "cell_type": "code",
   "execution_count": 17,
   "id": "excessive-appointment",
   "metadata": {},
   "outputs": [],
   "source": [
    "# we can first create a mapping from a digit to its letter represented\n",
    "def digit_mapping(digit):\n",
    "    if digit == '2':\n",
    "        return 'abc'\n",
    "    if digit == '3':\n",
    "        return 'def'\n",
    "    if digit == '4':\n",
    "        return 'ghi'\n",
    "    if digit == '5':\n",
    "        return 'jkl'\n",
    "    if digit == '6':\n",
    "        return 'mno'\n",
    "    if digit == '7':\n",
    "        return 'pqrs'\n",
    "    if digit == '8':\n",
    "        return 'tuv'\n",
    "    if digit == '9':\n",
    "        return 'wxyz'\n",
    "\n",
    "# then we can also create a function that can add the letter to the current string in the list\n",
    "# for example: str_now = 'a',new_letter = 'abc', it will return ['aa','ab','ac']\n",
    "# then we can use this list to create the output\n",
    "def adding_digit(str_now,new_letter):\n",
    "    alist = []\n",
    "    for i in list(new_letter):\n",
    "        alist.append(str_now + i)\n",
    "    return alist\n",
    "        \n",
    "\n",
    "# finally, we need to create a function that the input is the digits from our questions(eg: '2345')\n",
    "# then we can create a list called output to store the final answer\n",
    "# then we loop through the digits given one by one, and put the related string from the mapping of the digit in the temp_output\n",
    "def letter_combinations(string):\n",
    "    alist = list(string)\n",
    "    output = ['']\n",
    "    \n",
    "    if string == '':\n",
    "        return []\n",
    "    \n",
    "    for i in range(len(alist)):\n",
    "        #print('alist=',alist[i])\n",
    "        letters = digit_mapping(alist[i])\n",
    "        #print('letters=',letters)\n",
    "        letter_list = list(letters)\n",
    "        #print('letter_list=',letter_list)        \n",
    "            #for j in range(len(letter_list)):\n",
    "                #print('letter_list[j]=',letter_list[j])\n",
    "        temp_output = []\n",
    "        for k in output:\n",
    "            #print('temp_output=',k)\n",
    "            temp_output.extend(adding_digit(k,letters))\n",
    "            #print(temp_output)\n",
    "        output = temp_output\n",
    "    return output\n",
    "    \n",
    "    \n",
    "\n",
    "        \n",
    "                "
   ]
  },
  {
   "cell_type": "code",
   "execution_count": 18,
   "id": "altered-switch",
   "metadata": {},
   "outputs": [],
   "source": [
    "#len(letter_combinations('77777777'))"
   ]
  },
  {
   "cell_type": "markdown",
   "id": "built-delight",
   "metadata": {},
   "source": [
    "We can test the function by passing the input to it directly or by using the `evaluate_test_case` function from `jovian`."
   ]
  },
  {
   "cell_type": "code",
   "execution_count": 19,
   "id": "tamil-seating",
   "metadata": {},
   "outputs": [],
   "source": [
    "from jovian.pythondsa import evaluate_test_case"
   ]
  },
  {
   "cell_type": "code",
   "execution_count": 20,
   "id": "indirect-basis",
   "metadata": {},
   "outputs": [
    {
     "name": "stdout",
     "output_type": "stream",
     "text": [
      "\n",
      "Input:\n",
      "{'string': '2'}\n",
      "\n",
      "Expected Output:\n",
      "['a', 'b', 'c']\n",
      "\n",
      "\n",
      "Actual Output:\n",
      "['a', 'b', 'c']\n",
      "\n",
      "Execution Time:\n",
      "0.019 ms\n",
      "\n",
      "Test Result:\n",
      "\u001b[92mPASSED\u001b[0m\n",
      "\n"
     ]
    },
    {
     "data": {
      "text/plain": [
       "(['a', 'b', 'c'], True, 0.019)"
      ]
     },
     "execution_count": 20,
     "metadata": {},
     "output_type": "execute_result"
    }
   ],
   "source": [
    "evaluate_test_case(letter_combinations,test)"
   ]
  },
  {
   "cell_type": "markdown",
   "id": "placed-feelings",
   "metadata": {},
   "source": [
    "Evaluate your function against all the test cases together using the `evaluate_test_cases` (plural) function from `jovian`."
   ]
  },
  {
   "cell_type": "code",
   "execution_count": 21,
   "id": "inappropriate-angel",
   "metadata": {},
   "outputs": [],
   "source": [
    "from jovian.pythondsa import evaluate_test_cases"
   ]
  },
  {
   "cell_type": "code",
   "execution_count": 22,
   "id": "positive-barcelona",
   "metadata": {},
   "outputs": [
    {
     "name": "stdout",
     "output_type": "stream",
     "text": [
      "\n",
      "\u001b[1mTEST CASE #0\u001b[0m\n",
      "\n",
      "Input:\n",
      "{'string': '2'}\n",
      "\n",
      "Expected Output:\n",
      "['a', 'b', 'c']\n",
      "\n",
      "\n",
      "Actual Output:\n",
      "['a', 'b', 'c']\n",
      "\n",
      "Execution Time:\n",
      "0.01 ms\n",
      "\n",
      "Test Result:\n",
      "\u001b[92mPASSED\u001b[0m\n",
      "\n",
      "\n",
      "\u001b[1mTEST CASE #1\u001b[0m\n",
      "\n",
      "Input:\n",
      "{'string': '23'}\n",
      "\n",
      "Expected Output:\n",
      "['ad', 'ae', 'af', 'bd', 'be', 'bf', 'cd', 'ce', 'cf']\n",
      "\n",
      "\n",
      "Actual Output:\n",
      "['ad', 'ae', 'af', 'bd', 'be', 'bf', 'cd', 'ce', 'cf']\n",
      "\n",
      "Execution Time:\n",
      "0.014 ms\n",
      "\n",
      "Test Result:\n",
      "\u001b[92mPASSED\u001b[0m\n",
      "\n",
      "\n",
      "\u001b[1mTEST CASE #2\u001b[0m\n",
      "\n",
      "Input:\n",
      "{'string': ''}\n",
      "\n",
      "Expected Output:\n",
      "[]\n",
      "\n",
      "\n",
      "Actual Output:\n",
      "[]\n",
      "\n",
      "Execution Time:\n",
      "0.003 ms\n",
      "\n",
      "Test Result:\n",
      "\u001b[92mPASSED\u001b[0m\n",
      "\n",
      "\n",
      "\u001b[1mTEST CASE #3\u001b[0m\n",
      "\n",
      "Input:\n",
      "{'string': '22'}\n",
      "\n",
      "Expected Output:\n",
      "['aa', 'ab', 'ac', 'ba', 'bb', 'bc', 'ca', 'cb', 'cc']\n",
      "\n",
      "\n",
      "Actual Output:\n",
      "['aa', 'ab', 'ac', 'ba', 'bb', 'bc', 'ca', 'cb', 'cc']\n",
      "\n",
      "Execution Time:\n",
      "0.013 ms\n",
      "\n",
      "Test Result:\n",
      "\u001b[92mPASSED\u001b[0m\n",
      "\n",
      "\n",
      "\u001b[1mSUMMARY\u001b[0m\n",
      "\n",
      "TOTAL: 4, \u001b[92mPASSED\u001b[0m: 4, \u001b[91mFAILED\u001b[0m: 0\n"
     ]
    },
    {
     "data": {
      "text/plain": [
       "[(['a', 'b', 'c'], True, 0.01),\n",
       " (['ad', 'ae', 'af', 'bd', 'be', 'bf', 'cd', 'ce', 'cf'], True, 0.014),\n",
       " ([], True, 0.003),\n",
       " (['aa', 'ab', 'ac', 'ba', 'bb', 'bc', 'ca', 'cb', 'cc'], True, 0.013)]"
      ]
     },
     "execution_count": 22,
     "metadata": {},
     "output_type": "execute_result"
    }
   ],
   "source": [
    "evaluate_test_cases(letter_combinations,tests)"
   ]
  },
  {
   "cell_type": "markdown",
   "id": "liquid-throat",
   "metadata": {},
   "source": [
    "Verify that all the test cases were evaluated. We expect them all to fail, since we haven't implemented the function yet.\n",
    "\n",
    "Let's save our work before continuing."
   ]
  },
  {
   "cell_type": "code",
   "execution_count": 23,
   "id": "alpine-penny",
   "metadata": {},
   "outputs": [
    {
     "data": {
      "application/javascript": [
       "window.require && require([\"base/js/namespace\"],function(Jupyter){Jupyter.notebook.save_checkpoint()})"
      ],
      "text/plain": [
       "<IPython.core.display.Javascript object>"
      ]
     },
     "metadata": {},
     "output_type": "display_data"
    },
    {
     "name": "stdout",
     "output_type": "stream",
     "text": [
      "[jovian] Attempting to save notebook..\u001b[0m\n",
      "[jovian] Updating notebook \"arthasli001/python-dsa-project\" on https://jovian.ai\u001b[0m\n",
      "[jovian] Uploading notebook..\u001b[0m\n",
      "[jovian] Uploading additional files...\u001b[0m\n",
      "[jovian] Committed successfully! https://jovian.ai/arthasli001/python-dsa-project\u001b[0m\n"
     ]
    },
    {
     "data": {
      "text/plain": [
       "'https://jovian.ai/arthasli001/python-dsa-project'"
      ]
     },
     "execution_count": 23,
     "metadata": {},
     "output_type": "execute_result"
    }
   ],
   "source": [
    "jovian.commit()"
   ]
  },
  {
   "cell_type": "code",
   "execution_count": null,
   "id": "medieval-project",
   "metadata": {},
   "outputs": [],
   "source": []
  },
  {
   "cell_type": "markdown",
   "id": "funky-intersection",
   "metadata": {},
   "source": [
    "### 5. Analyze the algorithm's complexity and identify inefficiencies, if any."
   ]
  },
  {
   "cell_type": "markdown",
   "id": "greek-holocaust",
   "metadata": {},
   "source": [
    "there are three loops in the algorithm\n",
    "   1. loop of the every digit of the string given\n",
    "   2. loop of the adding_digit\n",
    "   3. loop of the current temp_output list\n",
    "\n",
    "although the orginal question in the LeetCode stated the length.digits <= 4, but we can consider the situation that the length.digits = $N$\n",
    "\n",
    "for the first digit, the length of list will increase by almost 4\n",
    "for the second digit, the length of list will be almost 4x4 = 16\n",
    "for the third digit, the length of list will be almost 16x4 = 48\n",
    "...\n",
    "\n",
    "so we can conclude that the length of N digits list will be almost 4^$(N-1)$\n",
    "\n",
    ">space complexity = 'O(4^$(N-1)$)'\n",
    "\n",
    "\n",
    "if length.digit = 1, first loop runs 1 time, second loop runs almost 4 times, third loop runs 1 time\n",
    "if length.digit = 2, first loop runs 2 time, second loop runs almost 4 times, third loop runs almost 4x4 time\n",
    "if length.digit = $N$, first loop runs N time, second loop runs almost 4 times, third loop runs almost 4^$N$ time\n",
    "....\n",
    "\n",
    "that means the time complexity should be 4^$N$\n",
    ">time complexity = 'O(4^$N$)'"
   ]
  },
  {
   "cell_type": "code",
   "execution_count": 24,
   "id": "mexican-harvard",
   "metadata": {},
   "outputs": [
    {
     "data": {
      "application/javascript": [
       "window.require && require([\"base/js/namespace\"],function(Jupyter){Jupyter.notebook.save_checkpoint()})"
      ],
      "text/plain": [
       "<IPython.core.display.Javascript object>"
      ]
     },
     "metadata": {},
     "output_type": "display_data"
    },
    {
     "name": "stdout",
     "output_type": "stream",
     "text": [
      "[jovian] Attempting to save notebook..\u001b[0m\n",
      "[jovian] Updating notebook \"arthasli001/python-dsa-project\" on https://jovian.ai\u001b[0m\n",
      "[jovian] Uploading notebook..\u001b[0m\n",
      "[jovian] Uploading additional files...\u001b[0m\n",
      "[jovian] Committed successfully! https://jovian.ai/arthasli001/python-dsa-project\u001b[0m\n"
     ]
    },
    {
     "data": {
      "text/plain": [
       "'https://jovian.ai/arthasli001/python-dsa-project'"
      ]
     },
     "execution_count": 24,
     "metadata": {},
     "output_type": "execute_result"
    }
   ],
   "source": [
    "jovian.commit()"
   ]
  },
  {
   "cell_type": "markdown",
   "id": "average-disposal",
   "metadata": {},
   "source": [
    "### 6. Apply the right technique to overcome the inefficiency. Repeat steps 3 to 6."
   ]
  },
  {
   "cell_type": "code",
   "execution_count": 25,
   "id": "explicit-montana",
   "metadata": {},
   "outputs": [],
   "source": [
    "#for i in itertools.product('abc'):\n",
    "#    for j in itertools.product('def'):\n",
    "#        print(''.join(i+j))"
   ]
  },
  {
   "cell_type": "markdown",
   "id": "another-racing",
   "metadata": {},
   "source": [
    "### 7. Come up with a correct solution for the problem. State it in plain English.\n",
    "\n",
    "Come with the optimized correct solution and explain it in simple words below:\n",
    "\n",
    "1. create a dictionary to store the number-string mapping\n",
    "2. loop through the string given and find the related mapping in the dictionary\n",
    "3. give a product of all the mapping of the string\n",
    "4. put the product in the list\n",
    "\n",
    "(add more steps if required)\n",
    "\n",
    "\n",
    "Let's save and upload our work before continuing.\n",
    "\n"
   ]
  },
  {
   "cell_type": "code",
   "execution_count": 26,
   "id": "environmental-dragon",
   "metadata": {},
   "outputs": [],
   "source": [
    "# first, we can create a dictionary to store the number-string mapping\n",
    "number_dict = {\"2\": \"abc\", \"3\": \"def\", \"4\": \"ghi\", \"5\":\"jkl\", \"6\":\"mno\", \"7\":\"pqrs\", \"8\":\"tuv\", \"9\":\"wxyz\"}"
   ]
  },
  {
   "cell_type": "code",
   "execution_count": 27,
   "id": "above-prompt",
   "metadata": {},
   "outputs": [],
   "source": [
    "# now we can use this dictionary to give the final answer\n",
    "import itertools as itertools\n",
    "\n",
    "def letter_combinations_optim(string):\n",
    "    if string=='':\n",
    "        return []\n",
    "    \n",
    "    return [''.join(item)  for item in itertools.product(*[number_dict[digit] for digit in string])]"
   ]
  },
  {
   "cell_type": "code",
   "execution_count": 28,
   "id": "continental-telephone",
   "metadata": {},
   "outputs": [
    {
     "name": "stdout",
     "output_type": "stream",
     "text": [
      "\n",
      "\u001b[1mTEST CASE #0\u001b[0m\n",
      "\n",
      "Input:\n",
      "{'string': '2'}\n",
      "\n",
      "Expected Output:\n",
      "['a', 'b', 'c']\n",
      "\n",
      "\n",
      "Actual Output:\n",
      "['a', 'b', 'c']\n",
      "\n",
      "Execution Time:\n",
      "0.017 ms\n",
      "\n",
      "Test Result:\n",
      "\u001b[92mPASSED\u001b[0m\n",
      "\n",
      "\n",
      "\u001b[1mTEST CASE #1\u001b[0m\n",
      "\n",
      "Input:\n",
      "{'string': '23'}\n",
      "\n",
      "Expected Output:\n",
      "['ad', 'ae', 'af', 'bd', 'be', 'bf', 'cd', 'ce', 'cf']\n",
      "\n",
      "\n",
      "Actual Output:\n",
      "['ad', 'ae', 'af', 'bd', 'be', 'bf', 'cd', 'ce', 'cf']\n",
      "\n",
      "Execution Time:\n",
      "0.008 ms\n",
      "\n",
      "Test Result:\n",
      "\u001b[92mPASSED\u001b[0m\n",
      "\n",
      "\n",
      "\u001b[1mTEST CASE #2\u001b[0m\n",
      "\n",
      "Input:\n",
      "{'string': ''}\n",
      "\n",
      "Expected Output:\n",
      "[]\n",
      "\n",
      "\n",
      "Actual Output:\n",
      "[]\n",
      "\n",
      "Execution Time:\n",
      "0.002 ms\n",
      "\n",
      "Test Result:\n",
      "\u001b[92mPASSED\u001b[0m\n",
      "\n",
      "\n",
      "\u001b[1mTEST CASE #3\u001b[0m\n",
      "\n",
      "Input:\n",
      "{'string': '22'}\n",
      "\n",
      "Expected Output:\n",
      "['aa', 'ab', 'ac', 'ba', 'bb', 'bc', 'ca', 'cb', 'cc']\n",
      "\n",
      "\n",
      "Actual Output:\n",
      "['aa', 'ab', 'ac', 'ba', 'bb', 'bc', 'ca', 'cb', 'cc']\n",
      "\n",
      "Execution Time:\n",
      "0.006 ms\n",
      "\n",
      "Test Result:\n",
      "\u001b[92mPASSED\u001b[0m\n",
      "\n",
      "\n",
      "\u001b[1mSUMMARY\u001b[0m\n",
      "\n",
      "TOTAL: 4, \u001b[92mPASSED\u001b[0m: 4, \u001b[91mFAILED\u001b[0m: 0\n"
     ]
    },
    {
     "data": {
      "text/plain": [
       "[(['a', 'b', 'c'], True, 0.017),\n",
       " (['ad', 'ae', 'af', 'bd', 'be', 'bf', 'cd', 'ce', 'cf'], True, 0.008),\n",
       " ([], True, 0.002),\n",
       " (['aa', 'ab', 'ac', 'ba', 'bb', 'bc', 'ca', 'cb', 'cc'], True, 0.006)]"
      ]
     },
     "execution_count": 28,
     "metadata": {},
     "output_type": "execute_result"
    }
   ],
   "source": [
    "evaluate_test_cases(letter_combinations_optim,tests)"
   ]
  },
  {
   "cell_type": "markdown",
   "id": "radical-photography",
   "metadata": {},
   "source": [
    "### 9. Analyze the algorithm's complexity and identify inefficiencies, if any."
   ]
  },
  {
   "cell_type": "markdown",
   "id": "directed-award",
   "metadata": {},
   "source": [
    "there are three loops in the optimized algorithm\n",
    "   1. loop of the every digit of the string given\n",
    "   2. loop of itertools.product\n",
    "\n",
    "we stored only the dictionary and the item in the second loop of itertools.product. For the item in the loop of itertools.product, we know that we only need store the index of strings we are using. \n",
    "\n",
    "so we can conclude that the length of N digits list will be almost $N$\n",
    "\n",
    ">space complexity = 'O(4^$(N-1)$)'\n",
    "\n",
    "\n",
    "if length.digit = 1, first loop runs 1 time, second loop runs almost 1 times\n",
    "if length.digit = 2, first loop runs 2 times, second loop runs almost 4 times\n",
    "if length.digit = $N$, first loop runs N time, second loop runs almost 4^(N-1) times\n",
    "....\n",
    "\n",
    "that means the time complexity should be 4^$N$\n",
    ">time complexity = 'O(4^$(N-1)$)'"
   ]
  },
  {
   "cell_type": "markdown",
   "id": "sporting-juvenile",
   "metadata": {},
   "source": [
    "If you found the problem on an external platform, you can make a submission to test your solution.\n",
    "\n",
    "Share your approach and start a discussion on the Jovian forum: https://jovian.ai/forum/c/data-structures-and-algorithms-in-python/78"
   ]
  },
  {
   "cell_type": "code",
   "execution_count": null,
   "id": "normal-bolivia",
   "metadata": {},
   "outputs": [
    {
     "data": {
      "application/javascript": [
       "window.require && require([\"base/js/namespace\"],function(Jupyter){Jupyter.notebook.save_checkpoint()})"
      ],
      "text/plain": [
       "<IPython.core.display.Javascript object>"
      ]
     },
     "metadata": {},
     "output_type": "display_data"
    },
    {
     "name": "stdout",
     "output_type": "stream",
     "text": [
      "[jovian] Attempting to save notebook..\u001b[0m\n"
     ]
    }
   ],
   "source": [
    "jovian.submit(assignment=\"pythondsa-project\")"
   ]
  },
  {
   "cell_type": "code",
   "execution_count": null,
   "id": "hairy-granny",
   "metadata": {},
   "outputs": [],
   "source": []
  }
 ],
 "metadata": {
  "language_info": {
   "codemirror_mode": {
    "name": "ipython",
    "version": 3
   },
   "file_extension": ".py",
   "mimetype": "text/x-python",
   "name": "python",
   "nbconvert_exporter": "python",
   "pygments_lexer": "ipython3",
   "version": "3.8.6"
  }
 },
 "nbformat": 4,
 "nbformat_minor": 5
}